{
  "nbformat": 4,
  "nbformat_minor": 0,
  "metadata": {
    "colab": {
      "provenance": [],
      "mount_file_id": "1C_6uzY0bS6GSJHPqOjsunaakAUMP87BB",
      "authorship_tag": "ABX9TyNfQkXGLGVzM1aKkPbJhFh/",
      "include_colab_link": true
    },
    "kernelspec": {
      "name": "python3",
      "display_name": "Python 3"
    },
    "language_info": {
      "name": "python"
    }
  },
  "cells": [
    {
      "cell_type": "markdown",
      "metadata": {
        "id": "view-in-github",
        "colab_type": "text"
      },
      "source": [
        "<a href=\"https://colab.research.google.com/github/dotori0418/2024python/blob/main/Ulsan_temp.ipynb\" target=\"_parent\"><img src=\"https://colab.research.google.com/assets/colab-badge.svg\" alt=\"Open In Colab\"/></a>"
      ]
    },
    {
      "cell_type": "code",
      "execution_count": 1,
      "metadata": {
        "id": "7ISvbai_l7Y3"
      },
      "outputs": [],
      "source": [
        "import csv\n",
        "f = open(\"/content/drive/MyDrive/Ulsantemp2024.csv\")"
      ]
    },
    {
      "cell_type": "markdown",
      "source": [],
      "metadata": {
        "id": "dKdXY6rMmaUW"
      }
    }
  ]
}